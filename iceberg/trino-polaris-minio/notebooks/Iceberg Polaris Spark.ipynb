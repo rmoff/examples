{
 "cells": [
  {
   "cell_type": "code",
   "execution_count": 1,
   "id": "ec489088-5204-4bd3-b309-93c11f184bf1",
   "metadata": {},
   "outputs": [],
   "source": [
    "# h/t https://www.dremio.com/blog/getting-hands-on-with-polaris-oss-apache-iceberg-and-apache-spark/\n",
    "import pyspark\n",
    "from pyspark.sql import SparkSession\n",
    "import os\n",
    "\n",
    "## DEFINE SENSITIVE VARIABLES\n",
    "POLARIS_URI = 'http://polaris:8181/api/catalog'\n",
    "POLARIS_CATALOG_NAME = 'polariscatalog'\n",
    "POLARIS_CREDENTIALS = 'root:secret'\n",
    "POLARIS_SCOPE = 'PRINCIPAL_ROLE:ALL'"
   ]
  },
  {
   "cell_type": "code",
   "execution_count": 2,
   "id": "f76fe6da-415b-4ff2-be45-e9fb81b45397",
   "metadata": {},
   "outputs": [
    {
     "name": "stdout",
     "output_type": "stream",
     "text": [
      "Spark Running\n"
     ]
    },
    {
     "name": "stderr",
     "output_type": "stream",
     "text": [
      "25/07/11 09:40:36 WARN SparkSession: Using an existing Spark session; only runtime SQL configurations will take effect.\n"
     ]
    }
   ],
   "source": [
    "conf = (\n",
    "    pyspark.SparkConf()\n",
    "        .setAppName('rmoff')\n",
    "  \t\t#packages\n",
    "        .set('spark.jars.packages', 'org.apache.iceberg:iceberg-spark-runtime-3.5_2.12:1.5.2,org.apache.hadoop:hadoop-aws:3.4.0')\n",
    "  \t\t#SQL Extensions\n",
    "        .set('spark.sql.extensions', 'org.apache.iceberg.spark.extensions.IcebergSparkSessionExtensions')\n",
    "  \t\t#Configuring Catalog\n",
    "        .set('spark.sql.catalog.polaris', 'org.apache.iceberg.spark.SparkCatalog')\n",
    "        .set('spark.sql.catalog.polaris.warehouse', POLARIS_CATALOG_NAME)\n",
    "        .set('spark.sql.catalog.polaris.header.X-Iceberg-Access-Delegation', 'true')\n",
    "        .set('spark.sql.catalog.polaris.catalog-impl', 'org.apache.iceberg.rest.RESTCatalog')\n",
    "        .set('spark.sql.catalog.polaris.uri', POLARIS_URI)\n",
    "        .set('spark.sql.catalog.polaris.credential', POLARIS_CREDENTIALS)\n",
    "        .set('spark.sql.catalog.polaris.scope', POLARIS_SCOPE)\n",
    "        .set('spark.sql.catalog.polaris.token-refresh-enabled', 'true')\n",
    "        .set('spark.sql.defaultCatalog', 'polaris') \n",
    ")\n",
    "\n",
    "## Start Spark Session\n",
    "spark = SparkSession.builder.config(conf=conf).getOrCreate()\n",
    "print(\"Spark Running\")"
   ]
  },
  {
   "cell_type": "code",
   "execution_count": 3,
   "id": "6cca0e4e-f56f-4273-80c0-c756fe896e81",
   "metadata": {},
   "outputs": [],
   "source": [
    "# # Run this for debug of the config\n",
    "# for item in spark.sparkContext.getConf().getAll():\n",
    "#     print(f\"{item[0]}: {item[1]}\")"
   ]
  },
  {
   "cell_type": "markdown",
   "id": "a8cdf292-6c11-4401-a0d8-6c58a54ed1dc",
   "metadata": {},
   "source": [
    "Expect the following warning the first time that you run something:\n",
    "\n",
    "```\n",
    "WARN RESTSessionCatalog: Iceberg REST client is missing the OAuth2 server URI configuration[…]\n",
    "```"
   ]
  },
  {
   "cell_type": "code",
   "execution_count": 6,
   "id": "a0ee70f1-a9ae-46d2-8599-b41cb5f0a08e",
   "metadata": {},
   "outputs": [
    {
     "name": "stdout",
     "output_type": "stream",
     "text": [
      "+---------+\n",
      "|namespace|\n",
      "+---------+\n",
      "|       db|\n",
      "|    rmoff|\n",
      "+---------+\n",
      "\n"
     ]
    }
   ],
   "source": [
    "spark.sql(\"CREATE NAMESPACE IF NOT EXISTS polaris.db\")\n",
    "spark.sql(\"SHOW DATABASES IN polaris\").show()"
   ]
  },
  {
   "cell_type": "code",
   "execution_count": 36,
   "id": "40a4879a-a67b-4803-9c37-2a9f19ddcc0d",
   "metadata": {},
   "outputs": [
    {
     "data": {
      "text/html": [
       "<table>\n",
       "    <thead>\n",
       "        <tr>\n",
       "        </tr>\n",
       "    </thead>\n",
       "    <tbody>\n",
       "    </tbody>\n",
       "</table>"
      ],
      "text/plain": [
       "++\n",
       "||\n",
       "++\n",
       "++"
      ]
     },
     "execution_count": 36,
     "metadata": {},
     "output_type": "execute_result"
    }
   ],
   "source": [
    "%%sql\n",
    "USE polaris.rmoff;"
   ]
  },
  {
   "cell_type": "code",
   "execution_count": 42,
   "id": "704ddaf6-5cb8-4b3b-8bc8-03fc9c1f58ab",
   "metadata": {},
   "outputs": [
    {
     "data": {
      "text/html": [
       "<table>\n",
       "    <thead>\n",
       "        <tr>\n",
       "        </tr>\n",
       "    </thead>\n",
       "    <tbody>\n",
       "    </tbody>\n",
       "</table>"
      ],
      "text/plain": [
       "++\n",
       "||\n",
       "++\n",
       "++"
      ]
     },
     "execution_count": 42,
     "metadata": {},
     "output_type": "execute_result"
    }
   ],
   "source": [
    "%%sql\n",
    "    CREATE TABLE IF NOT EXISTS customers (\n",
    "  customer_id BIGINT,\n",
    "  first_name VARCHAR(255),\n",
    "  last_name VARCHAR(255),\n",
    "  email VARCHAR(255)\n",
    ");"
   ]
  },
  {
   "cell_type": "code",
   "execution_count": 44,
   "id": "145e5ca7-9c08-462e-a2d2-3de30c905ae5",
   "metadata": {},
   "outputs": [
    {
     "data": {
      "text/html": [
       "<table>\n",
       "    <thead>\n",
       "        <tr>\n",
       "        </tr>\n",
       "    </thead>\n",
       "    <tbody>\n",
       "    </tbody>\n",
       "</table>"
      ],
      "text/plain": [
       "++\n",
       "||\n",
       "++\n",
       "++"
      ]
     },
     "execution_count": 44,
     "metadata": {},
     "output_type": "execute_result"
    }
   ],
   "source": [
    "%%sql\n",
    "\n",
    "INSERT INTO customers (customer_id, first_name, last_name, email) \n",
    "VALUES (1, 'Rey', 'Skywalker', 'rey@rebelscum.org'),\n",
    "       (2, 'Hermione', 'Granger', 'hermione@hogwarts.edu'),\n",
    "       (3, 'Tony', 'Stark', 'tony@starkindustries.com');"
   ]
  },
  {
   "cell_type": "code",
   "execution_count": 45,
   "id": "d32d62f8-dadc-4722-9443-86fe5e8f875c",
   "metadata": {},
   "outputs": [
    {
     "data": {
      "text/html": [
       "<table>\n",
       "    <thead>\n",
       "        <tr>\n",
       "            <th>customer_id</th>\n",
       "            <th>first_name</th>\n",
       "            <th>last_name</th>\n",
       "            <th>email</th>\n",
       "        </tr>\n",
       "    </thead>\n",
       "    <tbody>\n",
       "        <tr>\n",
       "            <td>1</td>\n",
       "            <td>Rey</td>\n",
       "            <td>Skywalker</td>\n",
       "            <td>rey@rebelscum.org</td>\n",
       "        </tr>\n",
       "        <tr>\n",
       "            <td>1</td>\n",
       "            <td>Rey</td>\n",
       "            <td>Skywalker</td>\n",
       "            <td>rey@rebelscum.org</td>\n",
       "        </tr>\n",
       "        <tr>\n",
       "            <td>2</td>\n",
       "            <td>Hermione</td>\n",
       "            <td>Granger</td>\n",
       "            <td>hermione@hogwarts.edu</td>\n",
       "        </tr>\n",
       "        <tr>\n",
       "            <td>2</td>\n",
       "            <td>Hermione</td>\n",
       "            <td>Granger</td>\n",
       "            <td>hermione@hogwarts.edu</td>\n",
       "        </tr>\n",
       "        <tr>\n",
       "            <td>3</td>\n",
       "            <td>Tony</td>\n",
       "            <td>Stark</td>\n",
       "            <td>tony@starkindustries.com</td>\n",
       "        </tr>\n",
       "        <tr>\n",
       "            <td>3</td>\n",
       "            <td>Tony</td>\n",
       "            <td>Stark</td>\n",
       "            <td>tony@starkindustries.com</td>\n",
       "        </tr>\n",
       "    </tbody>\n",
       "</table>"
      ],
      "text/plain": [
       "+-------------+------------+-----------+--------------------------+\n",
       "| customer_id | first_name | last_name |                    email |\n",
       "+-------------+------------+-----------+--------------------------+\n",
       "|           1 |        Rey | Skywalker |        rey@rebelscum.org |\n",
       "|           1 |        Rey | Skywalker |        rey@rebelscum.org |\n",
       "|           2 |   Hermione |   Granger |    hermione@hogwarts.edu |\n",
       "|           2 |   Hermione |   Granger |    hermione@hogwarts.edu |\n",
       "|           3 |       Tony |     Stark | tony@starkindustries.com |\n",
       "|           3 |       Tony |     Stark | tony@starkindustries.com |\n",
       "+-------------+------------+-----------+--------------------------+"
      ]
     },
     "execution_count": 45,
     "metadata": {},
     "output_type": "execute_result"
    }
   ],
   "source": [
    "%%sql\n",
    "\n",
    "SELECT * FROM customers;"
   ]
  }
 ],
 "metadata": {
  "kernelspec": {
   "display_name": "Python 3 (ipykernel)",
   "language": "python",
   "name": "python3"
  },
  "language_info": {
   "codemirror_mode": {
    "name": "ipython",
    "version": 3
   },
   "file_extension": ".py",
   "mimetype": "text/x-python",
   "name": "python",
   "nbconvert_exporter": "python",
   "pygments_lexer": "ipython3",
   "version": "3.10.16"
  }
 },
 "nbformat": 4,
 "nbformat_minor": 5
}
